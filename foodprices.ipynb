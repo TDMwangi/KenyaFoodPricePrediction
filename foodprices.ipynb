{
  "nbformat": 4,
  "nbformat_minor": 0,
  "metadata": {
    "colab": {
      "name": "foodprices.ipynb",
      "provenance": [],
      "collapsed_sections": [],
      "authorship_tag": "ABX9TyM6cPmqBTjVDj+AF4y724qK"
    },
    "kernelspec": {
      "name": "python3",
      "display_name": "Python 3"
    },
    "language_info": {
      "name": "python"
    }
  },
  "cells": [
    {
      "cell_type": "code",
      "metadata": {
        "id": "ZcL7eyICeGMl"
      },
      "source": [
        "import pandas as pd\n",
        "import numpy as np\n",
        "import matplotlib.pyplot as plt"
      ],
      "execution_count": null,
      "outputs": []
    },
    {
      "cell_type": "code",
      "metadata": {
        "id": "_uoJ_8BXeUFq"
      },
      "source": [
        "df = pd.read_csv(\"wfp_market_food_prices.csv\")\n",
        "df.head()"
      ],
      "execution_count": null,
      "outputs": []
    }
  ]
}